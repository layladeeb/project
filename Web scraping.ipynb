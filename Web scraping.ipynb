{
 "cells": [
  {
   "cell_type": "code",
   "execution_count": 6,
   "id": "039adc15",
   "metadata": {},
   "outputs": [
    {
     "name": "stdout",
     "output_type": "stream",
     "text": [
      "200\n",
      "Job Title:  Open Source Software Engineer - Python\n",
      "Location:  New York City or Remote\n",
      "Company:  Datadog\n",
      "\n",
      "Job Title:  Senior Python Developer\n",
      "Location:  remote\n",
      "Company:  RealRate GmbH\n",
      "\n",
      "Job Title:  Full Stack (Python & JS) Developer\n",
      "Location:  Kyiv\n",
      "Company:  O'Dwyer Software\n",
      "\n",
      "Job Title:  Python Backend Developer\n",
      "Location:  Amsterdam, Netherlands\n",
      "Company:  Newzoo\n",
      "\n",
      "Job Title:  Computer Scientist / Software Developer for multi-messenger astronomy\n",
      "Location:  Cascina (Pisa), Tuscany, Italy\n",
      "Company:  European Gravitational Observatory\n",
      "\n",
      "Job Title:  Full Stack Engineer\n",
      "Location:  Sydney, Australia\n",
      "Company:  Xref\n",
      "\n",
      "Job Title:  Remote Contractor Senior Django REST Developer\n",
      "Location:  Washington, D.C., Remote\n",
      "Company:  AIsoft Development LLC\n",
      "\n"
     ]
    }
   ],
   "source": [
    "import requests\n",
    "from bs4 import BeautifulSoup\n",
    "# get() Request\n",
    "response = requests.get(\"http://pythonjobs.github.io/\")\n",
    "# Store the webpage contents\n",
    "webpage = response.content\n",
    "# Check Status Code (Optional)\n",
    "print(response.status_code)\n",
    "# Create a BeautifulSoup object out of the webpage content\n",
    "soup = BeautifulSoup(webpage, \"html.parser\")\n",
    "# The logic\n",
    "for job in soup.find_all('section', class_='job_list'):\n",
    "    title = [a for a in job.find_all('h1')]\n",
    "    for n, tag in enumerate(job.find_all('div', class_='job')):\n",
    "        company_element = [x for x in tag.find_all('span', class_='info')]\n",
    "        print(\"Job Title: \", title[n].text.strip())\n",
    "        print(\"Location: \", company_element[0].text.strip())\n",
    "        print(\"Company: \", company_element[3].text.strip())\n",
    "        print()\n"
   ]
  },
  {
   "cell_type": "code",
   "execution_count": 10,
   "id": "632ad29b",
   "metadata": {
    "scrolled": false
   },
   "outputs": [
    {
     "name": "stdout",
     "output_type": "stream",
     "text": [
      "200\n"
     ]
    },
    {
     "data": {
      "text/html": [
       "<style type=\"text/css\">\n",
       "</style>\n",
       "<table id=\"T_a058a\">\n",
       "  <thead>\n",
       "    <tr>\n",
       "      <th class=\"blank level0\" >&nbsp;</th>\n",
       "      <th id=\"T_a058a_level0_col0\" class=\"col_heading level0 col0\" >Job Title</th>\n",
       "      <th id=\"T_a058a_level0_col1\" class=\"col_heading level0 col1\" >Location</th>\n",
       "      <th id=\"T_a058a_level0_col2\" class=\"col_heading level0 col2\" >Company</th>\n",
       "    </tr>\n",
       "  </thead>\n",
       "  <tbody>\n",
       "    <tr>\n",
       "      <th id=\"T_a058a_level0_row0\" class=\"row_heading level0 row0\" >0</th>\n",
       "      <td id=\"T_a058a_row0_col0\" class=\"data row0 col0\" >Open Source Software Engineer - Python</td>\n",
       "      <td id=\"T_a058a_row0_col1\" class=\"data row0 col1\" >New York City or Remote</td>\n",
       "      <td id=\"T_a058a_row0_col2\" class=\"data row0 col2\" >Datadog</td>\n",
       "    </tr>\n",
       "    <tr>\n",
       "      <th id=\"T_a058a_level0_row1\" class=\"row_heading level0 row1\" >1</th>\n",
       "      <td id=\"T_a058a_row1_col0\" class=\"data row1 col0\" >Senior Python Developer</td>\n",
       "      <td id=\"T_a058a_row1_col1\" class=\"data row1 col1\" >remote</td>\n",
       "      <td id=\"T_a058a_row1_col2\" class=\"data row1 col2\" >RealRate GmbH</td>\n",
       "    </tr>\n",
       "    <tr>\n",
       "      <th id=\"T_a058a_level0_row2\" class=\"row_heading level0 row2\" >2</th>\n",
       "      <td id=\"T_a058a_row2_col0\" class=\"data row2 col0\" >Full Stack (Python & JS) Developer</td>\n",
       "      <td id=\"T_a058a_row2_col1\" class=\"data row2 col1\" >Kyiv</td>\n",
       "      <td id=\"T_a058a_row2_col2\" class=\"data row2 col2\" >O'Dwyer Software</td>\n",
       "    </tr>\n",
       "    <tr>\n",
       "      <th id=\"T_a058a_level0_row3\" class=\"row_heading level0 row3\" >3</th>\n",
       "      <td id=\"T_a058a_row3_col0\" class=\"data row3 col0\" >Python Backend Developer</td>\n",
       "      <td id=\"T_a058a_row3_col1\" class=\"data row3 col1\" >Amsterdam, Netherlands</td>\n",
       "      <td id=\"T_a058a_row3_col2\" class=\"data row3 col2\" >Newzoo</td>\n",
       "    </tr>\n",
       "    <tr>\n",
       "      <th id=\"T_a058a_level0_row4\" class=\"row_heading level0 row4\" >4</th>\n",
       "      <td id=\"T_a058a_row4_col0\" class=\"data row4 col0\" >Computer Scientist / Software Developer for multi-messenger astronomy</td>\n",
       "      <td id=\"T_a058a_row4_col1\" class=\"data row4 col1\" >Cascina (Pisa), Tuscany, Italy</td>\n",
       "      <td id=\"T_a058a_row4_col2\" class=\"data row4 col2\" >European Gravitational Observatory</td>\n",
       "    </tr>\n",
       "    <tr>\n",
       "      <th id=\"T_a058a_level0_row5\" class=\"row_heading level0 row5\" >5</th>\n",
       "      <td id=\"T_a058a_row5_col0\" class=\"data row5 col0\" >Full Stack Engineer</td>\n",
       "      <td id=\"T_a058a_row5_col1\" class=\"data row5 col1\" >Sydney, Australia</td>\n",
       "      <td id=\"T_a058a_row5_col2\" class=\"data row5 col2\" >Xref</td>\n",
       "    </tr>\n",
       "    <tr>\n",
       "      <th id=\"T_a058a_level0_row6\" class=\"row_heading level0 row6\" >6</th>\n",
       "      <td id=\"T_a058a_row6_col0\" class=\"data row6 col0\" >Remote Contractor Senior Django REST Developer</td>\n",
       "      <td id=\"T_a058a_row6_col1\" class=\"data row6 col1\" >Washington, D.C., Remote</td>\n",
       "      <td id=\"T_a058a_row6_col2\" class=\"data row6 col2\" >AIsoft Development LLC</td>\n",
       "    </tr>\n",
       "  </tbody>\n",
       "</table>\n"
      ],
      "text/plain": [
       "<pandas.io.formats.style.Styler at 0x1914068f4c0>"
      ]
     },
     "execution_count": 10,
     "metadata": {},
     "output_type": "execute_result"
    }
   ],
   "source": [
    "import requests\n",
    "from bs4 import BeautifulSoup\n",
    "import pandas as pd\n",
    "# get() Request\n",
    "response = requests.get(\"http://pythonjobs.github.io/\")\n",
    "# Store the webpage contents\n",
    "webpage = response.content\n",
    "# Check Status Code (Optional)\n",
    "print(response.status_code)\n",
    "# Create a BeautifulSoup object out of the webpage content\n",
    "soup = BeautifulSoup(webpage, \"html.parser\")\n",
    "# The logic\n",
    "t=[]\n",
    "l=[]\n",
    "c=[]\n",
    "for job in soup.find_all('section', class_='job_list'):\n",
    "    title = [a for a in job.find_all('h1')]\n",
    "    for n, tag in enumerate(job.find_all('div', class_='job')):\n",
    "        company_element = [x for x in tag.find_all('span', class_='info')]\n",
    "        t.append(title[n].text.strip())\n",
    "        l.append(company_element[0].text.strip())\n",
    "        c.append(company_element[3].text.strip())\n",
    "\n",
    "columns={'Job Title':t,'Location':l,'Company':c}\n",
    "df = pd.DataFrame(columns)\n",
    "df.to_csv('Jobs.csv', encoding='utf-8')\n",
    "df.style.format()\n"
   ]
  },
  {
   "cell_type": "code",
   "execution_count": null,
   "id": "ebb8d415",
   "metadata": {},
   "outputs": [],
   "source": []
  }
 ],
 "metadata": {
  "kernelspec": {
   "display_name": "Python 3 (ipykernel)",
   "language": "python",
   "name": "python3"
  },
  "language_info": {
   "codemirror_mode": {
    "name": "ipython",
    "version": 3
   },
   "file_extension": ".py",
   "mimetype": "text/x-python",
   "name": "python",
   "nbconvert_exporter": "python",
   "pygments_lexer": "ipython3",
   "version": "3.10.4"
  }
 },
 "nbformat": 4,
 "nbformat_minor": 5
}
